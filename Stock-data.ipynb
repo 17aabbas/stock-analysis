{
 "cells": [
  {
   "cell_type": "code",
   "execution_count": null,
   "metadata": {},
   "outputs": [],
   "source": [
    "pip install yfinance"
   ]
  },
  {
   "cell_type": "code",
   "execution_count": null,
   "metadata": {},
   "outputs": [],
   "source": [
    "pip install ta"
   ]
  },
  {
   "cell_type": "code",
   "execution_count": null,
   "metadata": {},
   "outputs": [],
   "source": [
    "pip install scikit-learn"
   ]
  },
  {
   "cell_type": "code",
   "execution_count": null,
   "metadata": {},
   "outputs": [],
   "source": [
    "import yfinance as yf\n",
    "from ta import add_all_ta_features\n",
    "from ta.utils import dropna\n",
    "from sklearn.model_selection import train_test_split\n",
    "from sklearn.ensemble import RandomForestClassifier\n",
    "from sklearn.metrics import accuracy_score"
   ]
  },
  {
   "cell_type": "code",
   "execution_count": null,
   "metadata": {},
   "outputs": [],
   "source": [
    "def fetch_stock_data(ticker, start_date, end_date):\n",
    "    try:\n",
    "        # Fetch historical stock data using yfinance\n",
    "        stock_data = yf.download(ticker, start=start_date, end=end_date)\n",
    "        return stock_data\n",
    "    except Exception as e:\n",
    "        print(\"Error fetching data:\", e)\n",
    "        return None"
   ]
  },
  {
   "cell_type": "code",
   "execution_count": null,
   "metadata": {},
   "outputs": [],
   "source": [
    "def perform_technical_analysis(stock_data):\n",
    "    try:\n",
    "        # Reset index\n",
    "        stock_data.reset_index(inplace=True)\n",
    "\n",
    "        # Add technical analysis features\n",
    "        stock_data = dropna(stock_data)\n",
    "        stock_data = add_all_ta_features(stock_data, open=\"Open\", high=\"High\", low=\"Low\", close=\"Close\", volume=\"Volume\")\n",
    "\n",
    "        return stock_data\n",
    "    except Exception as e:\n",
    "        print(\"Error performing technical analysis:\", e)\n",
    "        return None\n"
   ]
  },
  {
   "cell_type": "code",
   "execution_count": null,
   "metadata": {},
   "outputs": [],
   "source": [
    "def train_model(X, y):\n",
    "    # Split features and target into training and testing sets\n",
    "    X_train, X_test, y_train, y_test = train_test_split(X, y, test_size=0.2, random_state=42)\n",
    "\n",
    "    # Train a machine learning model\n",
    "    model = RandomForestClassifier()\n",
    "    model.fit(X_train, y_train)\n",
    "\n",
    "    # Evaluate the model\n",
    "    y_pred = model.predict(X_test)\n",
    "    accuracy = accuracy_score(y_test, y_pred)\n",
    "    print(\"Model Accuracy:\", accuracy)\n",
    "\n",
    "    return model, X_train, X_test, y_train, y_test"
   ]
  },
  {
   "cell_type": "code",
   "execution_count": null,
   "metadata": {},
   "outputs": [],
   "source": [
    "def predict_movement(model, features):\n",
    "    # Predict stock movement\n",
    "    prediction = model.predict([features])\n",
    "\n",
    "    return prediction"
   ]
  },
  {
   "cell_type": "code",
   "execution_count": null,
   "metadata": {},
   "outputs": [],
   "source": [
    "def main():\n",
    "    # Input stock ticker\n",
    "    ticker = input(\"Enter the stock ticker: \")\n",
    "    print(\"Fetching data for ticker:\", ticker)  # Debugging statement\n",
    "\n",
    "    # Fetch historical stock data\n",
    "    start_date = input(\"Enter start date (YYYY-MM-DD): \")  # Change start date as needed\n",
    "    end_date = input(\"Enter end date (YYYY-MM-DD): \")    # Change end date as needed\n",
    "    stock_data = fetch_stock_data(ticker, start_date, end_date)\n",
    "\n",
    "    if stock_data is None:\n",
    "        print(\"Failed to fetch stock data for ticker:\", ticker)\n",
    "        return\n",
    "\n",
    "    print(\"Fetched data successfully.\")  # Debugging statement\n",
    "\n",
    "    print(\"Stock data before technical analysis:\", stock_data)  # Debugging statement\n",
    "\n",
    "    # Perform technical analysis\n",
    "    stock_data = perform_technical_analysis(stock_data)\n",
    "\n",
    "    if stock_data is None:\n",
    "        print(\"Failed to perform technical analysis.\")\n",
    "        return\n",
    "\n",
    "    print(\"Performed technical analysis successfully.\")  # Debugging statement\n",
    "\n",
    "    # Prepare features and target\n",
    "    features = stock_data.drop(['Close', 'Date'], axis=1)\n",
    "    target = (stock_data['Close'] - stock_data['Open']).apply(lambda x: 1 if x > 0 else 0)\n",
    "\n",
    "    # Train machine learning model\n",
    "    model, _, _, _, _ = train_model(features, target)  # Unpack only the model\n",
    "\n",
    "    # Predict stock movement\n",
    "    prediction = predict_movement(model, features.iloc[-1])\n",
    "\n",
    "    # Print prediction\n",
    "    if prediction[0] == 1:\n",
    "        print(\"This stock will rise.\")\n",
    "    else:\n",
    "        print(\"This stock will go down.\")\n",
    "\n",
    "if __name__ == \"__main__\":\n",
    "    main()"
   ]
  }
 ],
 "metadata": {
  "kernelspec": {
   "display_name": "Python 3",
   "language": "python",
   "name": "python3"
  },
  "language_info": {
   "codemirror_mode": {
    "name": "ipython",
    "version": 3
   },
   "file_extension": ".py",
   "mimetype": "text/x-python",
   "name": "python",
   "nbconvert_exporter": "python",
   "pygments_lexer": "ipython3",
   "version": "3.12.2"
  }
 },
 "nbformat": 4,
 "nbformat_minor": 2
}
