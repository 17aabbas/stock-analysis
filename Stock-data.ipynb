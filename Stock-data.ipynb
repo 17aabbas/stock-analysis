{
 "cells": [
  {
   "cell_type": "code",
   "execution_count": 88,
   "metadata": {},
   "outputs": [
    {
     "name": "stdout",
     "output_type": "stream",
     "text": [
      "Requirement already satisfied: yfinance in c:\\users\\syed_\\appdata\\local\\programs\\python\\python312\\lib\\site-packages (0.2.37)Note: you may need to restart the kernel to use updated packages.\n",
      "\n",
      "Requirement already satisfied: pandas>=1.3.0 in c:\\users\\syed_\\appdata\\local\\programs\\python\\python312\\lib\\site-packages (from yfinance) (2.2.1)\n",
      "Requirement already satisfied: numpy>=1.16.5 in c:\\users\\syed_\\appdata\\local\\programs\\python\\python312\\lib\\site-packages (from yfinance) (1.26.4)\n",
      "Requirement already satisfied: requests>=2.31 in c:\\users\\syed_\\appdata\\local\\programs\\python\\python312\\lib\\site-packages (from yfinance) (2.31.0)\n",
      "Requirement already satisfied: multitasking>=0.0.7 in c:\\users\\syed_\\appdata\\local\\programs\\python\\python312\\lib\\site-packages (from yfinance) (0.0.11)\n",
      "Requirement already satisfied: lxml>=4.9.1 in c:\\users\\syed_\\appdata\\local\\programs\\python\\python312\\lib\\site-packages (from yfinance) (5.2.1)\n",
      "Requirement already satisfied: appdirs>=1.4.4 in c:\\users\\syed_\\appdata\\local\\programs\\python\\python312\\lib\\site-packages (from yfinance) (1.4.4)\n",
      "Requirement already satisfied: pytz>=2022.5 in c:\\users\\syed_\\appdata\\local\\programs\\python\\python312\\lib\\site-packages (from yfinance) (2024.1)\n",
      "Requirement already satisfied: frozendict>=2.3.4 in c:\\users\\syed_\\appdata\\local\\programs\\python\\python312\\lib\\site-packages (from yfinance) (2.4.1)\n",
      "Requirement already satisfied: peewee>=3.16.2 in c:\\users\\syed_\\appdata\\local\\programs\\python\\python312\\lib\\site-packages (from yfinance) (3.17.1)\n",
      "Requirement already satisfied: beautifulsoup4>=4.11.1 in c:\\users\\syed_\\appdata\\local\\programs\\python\\python312\\lib\\site-packages (from yfinance) (4.12.3)\n",
      "Requirement already satisfied: html5lib>=1.1 in c:\\users\\syed_\\appdata\\local\\programs\\python\\python312\\lib\\site-packages (from yfinance) (1.1)\n",
      "Requirement already satisfied: soupsieve>1.2 in c:\\users\\syed_\\appdata\\local\\programs\\python\\python312\\lib\\site-packages (from beautifulsoup4>=4.11.1->yfinance) (2.5)\n",
      "Requirement already satisfied: six>=1.9 in c:\\users\\syed_\\appdata\\roaming\\python\\python312\\site-packages (from html5lib>=1.1->yfinance) (1.16.0)\n",
      "Requirement already satisfied: webencodings in c:\\users\\syed_\\appdata\\local\\programs\\python\\python312\\lib\\site-packages (from html5lib>=1.1->yfinance) (0.5.1)\n",
      "Requirement already satisfied: python-dateutil>=2.8.2 in c:\\users\\syed_\\appdata\\roaming\\python\\python312\\site-packages (from pandas>=1.3.0->yfinance) (2.9.0.post0)\n",
      "Requirement already satisfied: tzdata>=2022.7 in c:\\users\\syed_\\appdata\\local\\programs\\python\\python312\\lib\\site-packages (from pandas>=1.3.0->yfinance) (2024.1)\n",
      "Requirement already satisfied: charset-normalizer<4,>=2 in c:\\users\\syed_\\appdata\\local\\programs\\python\\python312\\lib\\site-packages (from requests>=2.31->yfinance) (3.3.2)\n",
      "Requirement already satisfied: idna<4,>=2.5 in c:\\users\\syed_\\appdata\\local\\programs\\python\\python312\\lib\\site-packages (from requests>=2.31->yfinance) (3.6)\n",
      "Requirement already satisfied: urllib3<3,>=1.21.1 in c:\\users\\syed_\\appdata\\local\\programs\\python\\python312\\lib\\site-packages (from requests>=2.31->yfinance) (2.2.1)\n",
      "Requirement already satisfied: certifi>=2017.4.17 in c:\\users\\syed_\\appdata\\local\\programs\\python\\python312\\lib\\site-packages (from requests>=2.31->yfinance) (2024.2.2)\n"
     ]
    }
   ],
   "source": [
    "pip install yfinance"
   ]
  },
  {
   "cell_type": "code",
   "execution_count": 89,
   "metadata": {},
   "outputs": [
    {
     "name": "stdout",
     "output_type": "stream",
     "text": [
      "Requirement already satisfied: ta in c:\\users\\syed_\\appdata\\local\\programs\\python\\python312\\lib\\site-packages (0.11.0)\n",
      "Requirement already satisfied: numpy in c:\\users\\syed_\\appdata\\local\\programs\\python\\python312\\lib\\site-packages (from ta) (1.26.4)\n",
      "Requirement already satisfied: pandas in c:\\users\\syed_\\appdata\\local\\programs\\python\\python312\\lib\\site-packages (from ta) (2.2.1)\n",
      "Requirement already satisfied: python-dateutil>=2.8.2 in c:\\users\\syed_\\appdata\\roaming\\python\\python312\\site-packages (from pandas->ta) (2.9.0.post0)\n",
      "Requirement already satisfied: pytz>=2020.1 in c:\\users\\syed_\\appdata\\local\\programs\\python\\python312\\lib\\site-packages (from pandas->ta) (2024.1)\n",
      "Requirement already satisfied: tzdata>=2022.7 in c:\\users\\syed_\\appdata\\local\\programs\\python\\python312\\lib\\site-packages (from pandas->ta) (2024.1)\n",
      "Requirement already satisfied: six>=1.5 in c:\\users\\syed_\\appdata\\roaming\\python\\python312\\site-packages (from python-dateutil>=2.8.2->pandas->ta) (1.16.0)\n",
      "Note: you may need to restart the kernel to use updated packages.\n"
     ]
    }
   ],
   "source": [
    "pip install ta"
   ]
  },
  {
   "cell_type": "code",
   "execution_count": 90,
   "metadata": {},
   "outputs": [
    {
     "name": "stdout",
     "output_type": "stream",
     "text": [
      "Requirement already satisfied: scikit-learn in c:\\users\\syed_\\appdata\\local\\programs\\python\\python312\\lib\\site-packages (1.4.1.post1)\n",
      "Requirement already satisfied: numpy<2.0,>=1.19.5 in c:\\users\\syed_\\appdata\\local\\programs\\python\\python312\\lib\\site-packages (from scikit-learn) (1.26.4)\n",
      "Requirement already satisfied: scipy>=1.6.0 in c:\\users\\syed_\\appdata\\local\\programs\\python\\python312\\lib\\site-packages (from scikit-learn) (1.13.0)\n",
      "Requirement already satisfied: joblib>=1.2.0 in c:\\users\\syed_\\appdata\\local\\programs\\python\\python312\\lib\\site-packages (from scikit-learn) (1.3.2)\n",
      "Requirement already satisfied: threadpoolctl>=2.0.0 in c:\\users\\syed_\\appdata\\local\\programs\\python\\python312\\lib\\site-packages (from scikit-learn) (3.4.0)\n",
      "Note: you may need to restart the kernel to use updated packages.\n"
     ]
    }
   ],
   "source": [
    "pip install scikit-learn"
   ]
  },
  {
   "cell_type": "code",
   "execution_count": 91,
   "metadata": {},
   "outputs": [],
   "source": [
    "import yfinance as yf\n",
    "from ta import add_all_ta_features\n",
    "from ta.utils import dropna\n",
    "from sklearn.model_selection import train_test_split\n",
    "from sklearn.ensemble import RandomForestClassifier\n",
    "from sklearn.metrics import accuracy_score"
   ]
  },
  {
   "cell_type": "code",
   "execution_count": 92,
   "metadata": {},
   "outputs": [],
   "source": [
    "def fetch_stock_data(ticker, start_date, end_date):\n",
    "    try:\n",
    "        # Fetch historical stock data using yfinance\n",
    "        stock_data = yf.download(ticker, start=start_date, end=end_date)\n",
    "        return stock_data\n",
    "    except Exception as e:\n",
    "        print(\"Error fetching data:\", e)\n",
    "        return None"
   ]
  },
  {
   "cell_type": "code",
   "execution_count": 93,
   "metadata": {},
   "outputs": [],
   "source": [
    "def perform_technical_analysis(stock_data):\n",
    "    try:\n",
    "        # Reset index\n",
    "        stock_data.reset_index(inplace=True)\n",
    "\n",
    "        # Add technical analysis features\n",
    "        stock_data = dropna(stock_data)\n",
    "        stock_data = add_all_ta_features(stock_data, open=\"Open\", high=\"High\", low=\"Low\", close=\"Close\", volume=\"Volume\")\n",
    "\n",
    "        return stock_data\n",
    "    except Exception as e:\n",
    "        print(\"Error performing technical analysis:\", e)\n",
    "        return None\n"
   ]
  },
  {
   "cell_type": "code",
   "execution_count": 94,
   "metadata": {},
   "outputs": [],
   "source": [
    "def train_model(X, y):\n",
    "    # Split features and target into training and testing sets\n",
    "    X_train, X_test, y_train, y_test = train_test_split(X, y, test_size=0.2, random_state=42)\n",
    "\n",
    "    # Train a machine learning model\n",
    "    model = RandomForestClassifier()\n",
    "    model.fit(X_train, y_train)\n",
    "\n",
    "    # Evaluate the model\n",
    "    y_pred = model.predict(X_test)\n",
    "    accuracy = accuracy_score(y_test, y_pred)\n",
    "    print(\"Model Accuracy:\", accuracy)\n",
    "\n",
    "    return model, X_train, X_test, y_train, y_test"
   ]
  },
  {
   "cell_type": "code",
   "execution_count": 95,
   "metadata": {},
   "outputs": [],
   "source": [
    "def predict_movement(model, features):\n",
    "    # Predict stock movement\n",
    "    prediction = model.predict([features])\n",
    "\n",
    "    return prediction"
   ]
  },
  {
   "cell_type": "code",
   "execution_count": 96,
   "metadata": {},
   "outputs": [
    {
     "name": "stderr",
     "output_type": "stream",
     "text": [
      "[*********************100%%**********************]  1 of 1 completed"
     ]
    },
    {
     "name": "stdout",
     "output_type": "stream",
     "text": [
      "Fetching data for ticker: TSLA\n",
      "Fetched data successfully.\n",
      "Stock data before technical analysis:                   Open        High         Low       Close   Adj Close  \\\n",
      "Date                                                                     \n",
      "2019-01-02   20.406668   21.008667   19.920000   20.674667   20.674667   \n",
      "2019-01-03   20.466667   20.626667   19.825333   20.024000   20.024000   \n",
      "2019-01-04   20.400000   21.200001   20.181999   21.179333   21.179333   \n",
      "2019-01-07   21.448000   22.449333   21.183332   22.330667   22.330667   \n",
      "2019-01-08   22.797333   22.934000   21.801332   22.356667   22.356667   \n",
      "...                ...         ...         ...         ...         ...   \n",
      "2021-03-25  204.333328  215.166672  203.166672  213.463333  213.463333   \n",
      "2021-03-26  213.956665  214.606674  199.963333  206.236664  206.236664   \n",
      "2021-03-29  205.213333  205.493332  198.673340  203.763336  203.763336   \n",
      "2021-03-30  200.583328  212.553329  197.003326  211.873337  211.873337   \n",
      "2021-03-31  215.539993  224.000000  213.703339  222.643326  222.643326   \n",
      "\n",
      "               Volume  \n",
      "Date                   \n",
      "2019-01-02  174879000  \n",
      "2019-01-03  104478000  \n",
      "2019-01-04  110911500  \n",
      "2019-01-07  113268000  \n",
      "2019-01-08  105127500  \n",
      "...               ...  \n",
      "2021-03-25  117674700  \n",
      "2021-03-26  101558400  \n",
      "2021-03-29   85911000  \n",
      "2021-03-30  118297200  \n",
      "2021-03-31  100011900  \n",
      "\n",
      "[566 rows x 6 columns]\n"
     ]
    },
    {
     "name": "stderr",
     "output_type": "stream",
     "text": [
      "\n"
     ]
    },
    {
     "name": "stdout",
     "output_type": "stream",
     "text": [
      "Performed technical analysis successfully.\n",
      "Model Accuracy: 0.7543859649122807\n",
      "This stock will rise.\n"
     ]
    },
    {
     "name": "stderr",
     "output_type": "stream",
     "text": [
      "c:\\Users\\syed_\\AppData\\Local\\Programs\\Python\\Python312\\Lib\\site-packages\\sklearn\\base.py:493: UserWarning: X does not have valid feature names, but RandomForestClassifier was fitted with feature names\n",
      "  warnings.warn(\n"
     ]
    }
   ],
   "source": [
    "def main():\n",
    "    # Input stock ticker\n",
    "    ticker = input(\"Enter the stock ticker: \")\n",
    "    print(\"Fetching data for ticker:\", ticker)  # Debugging statement\n",
    "\n",
    "    # Fetch historical stock data\n",
    "    start_date = \"2019-01-01\"  # Change start date as needed\n",
    "    end_date = \"2021-04-01\"    # Change end date as needed\n",
    "    stock_data = fetch_stock_data(ticker, start_date, end_date)\n",
    "\n",
    "    if stock_data is None:\n",
    "        print(\"Failed to fetch stock data for ticker:\", ticker)\n",
    "        return\n",
    "\n",
    "    print(\"Fetched data successfully.\")  # Debugging statement\n",
    "\n",
    "    print(\"Stock data before technical analysis:\", stock_data)  # Debugging statement\n",
    "\n",
    "    # Perform technical analysis\n",
    "    stock_data = perform_technical_analysis(stock_data)\n",
    "\n",
    "    if stock_data is None:\n",
    "        print(\"Failed to perform technical analysis.\")\n",
    "        return\n",
    "\n",
    "    print(\"Performed technical analysis successfully.\")  # Debugging statement\n",
    "\n",
    "    # Prepare features and target\n",
    "    features = stock_data.drop(['Close', 'Date'], axis=1)\n",
    "    target = (stock_data['Close'] - stock_data['Open']).apply(lambda x: 1 if x > 0 else 0)\n",
    "\n",
    "    # Train machine learning model\n",
    "    model, _, _, _, _ = train_model(features, target)  # Unpack only the model\n",
    "\n",
    "    # Predict stock movement\n",
    "    prediction = predict_movement(model, features.iloc[-1])\n",
    "\n",
    "    # Print prediction\n",
    "    if prediction[0] == 1:\n",
    "        print(\"This stock will rise.\")\n",
    "    else:\n",
    "        print(\"This stock will go down.\")\n",
    "\n",
    "if __name__ == \"__main__\":\n",
    "    main()"
   ]
  }
 ],
 "metadata": {
  "kernelspec": {
   "display_name": "Python 3",
   "language": "python",
   "name": "python3"
  },
  "language_info": {
   "codemirror_mode": {
    "name": "ipython",
    "version": 3
   },
   "file_extension": ".py",
   "mimetype": "text/x-python",
   "name": "python",
   "nbconvert_exporter": "python",
   "pygments_lexer": "ipython3",
   "version": "3.12.2"
  }
 },
 "nbformat": 4,
 "nbformat_minor": 2
}
